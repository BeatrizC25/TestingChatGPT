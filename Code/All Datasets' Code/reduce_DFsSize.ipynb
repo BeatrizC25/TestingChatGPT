{
 "cells": [
  {
   "cell_type": "markdown",
   "id": "149a77bd",
   "metadata": {},
   "source": [
    "## Reducing Datasets' Size"
   ]
  },
  {
   "cell_type": "code",
   "execution_count": 1,
   "id": "34df0659",
   "metadata": {},
   "outputs": [],
   "source": [
    "import pandas as pd\n",
    "import numpy as np\n",
    "import matplotlib.pyplot as plt\n",
    "import seaborn as sns\n",
    "import csv\n",
    "import warnings\n",
    "# Ignore all warnings\n",
    "warnings.filterwarnings(\"ignore\")"
   ]
  },
  {
   "cell_type": "markdown",
   "id": "2587cfb4",
   "metadata": {},
   "source": [
    "### Function to selectr 90 random rows of each 'Topic', 'Sub-Branch'..."
   ]
  },
  {
   "cell_type": "code",
   "execution_count": 2,
   "id": "b9d607cf",
   "metadata": {},
   "outputs": [],
   "source": [
    "# Function to sample rows\n",
    "def sample_rows(x, n=90):\n",
    "    return x.sample(n=min(len(x), n), random_state=25)"
   ]
  },
  {
   "cell_type": "markdown",
   "id": "a6c0e7e2",
   "metadata": {},
   "source": [
    "### SciQ Dataset"
   ]
  },
  {
   "cell_type": "code",
   "execution_count": 3,
   "id": "8a23e132",
   "metadata": {},
   "outputs": [
    {
     "data": {
      "text/html": [
       "<div>\n",
       "<style scoped>\n",
       "    .dataframe tbody tr th:only-of-type {\n",
       "        vertical-align: middle;\n",
       "    }\n",
       "\n",
       "    .dataframe tbody tr th {\n",
       "        vertical-align: top;\n",
       "    }\n",
       "\n",
       "    .dataframe thead th {\n",
       "        text-align: right;\n",
       "    }\n",
       "</style>\n",
       "<table border=\"1\" class=\"dataframe\">\n",
       "  <thead>\n",
       "    <tr style=\"text-align: right;\">\n",
       "      <th></th>\n",
       "      <th>Question</th>\n",
       "      <th>A</th>\n",
       "      <th>B</th>\n",
       "      <th>C</th>\n",
       "      <th>D</th>\n",
       "      <th>Correct Option</th>\n",
       "      <th>Main Branch</th>\n",
       "      <th>Sub-Branch</th>\n",
       "    </tr>\n",
       "  </thead>\n",
       "  <tbody>\n",
       "    <tr>\n",
       "      <th>0</th>\n",
       "      <td>What type of organism is commonly used in prep...</td>\n",
       "      <td>gymnosperms</td>\n",
       "      <td>protozoa</td>\n",
       "      <td>mesophilic organisms</td>\n",
       "      <td>viruses</td>\n",
       "      <td>C</td>\n",
       "      <td>Biology</td>\n",
       "      <td>Microbiology</td>\n",
       "    </tr>\n",
       "    <tr>\n",
       "      <th>1</th>\n",
       "      <td>What phenomenon makes global winds blow northe...</td>\n",
       "      <td>centrifugal effect</td>\n",
       "      <td>coriolis effect</td>\n",
       "      <td>muon effect</td>\n",
       "      <td>tropical effect</td>\n",
       "      <td>B</td>\n",
       "      <td>Earth Sciences</td>\n",
       "      <td>Atmospheric Science</td>\n",
       "    </tr>\n",
       "    <tr>\n",
       "      <th>2</th>\n",
       "      <td>Changes from a less-ordered state to a more-or...</td>\n",
       "      <td>reactive</td>\n",
       "      <td>unbalanced</td>\n",
       "      <td>exothermic</td>\n",
       "      <td>endothermic</td>\n",
       "      <td>C</td>\n",
       "      <td>Physics</td>\n",
       "      <td>Thermodynamics</td>\n",
       "    </tr>\n",
       "    <tr>\n",
       "      <th>3</th>\n",
       "      <td>What is the least dangerous radioactive decay?</td>\n",
       "      <td>gamma decay</td>\n",
       "      <td>alpha decay</td>\n",
       "      <td>beta decay</td>\n",
       "      <td>zeta decay</td>\n",
       "      <td>B</td>\n",
       "      <td>Physics</td>\n",
       "      <td>Nuclear and Particle Physics</td>\n",
       "    </tr>\n",
       "    <tr>\n",
       "      <th>4</th>\n",
       "      <td>Kilauea in hawaii is the world’s most continuo...</td>\n",
       "      <td>carbon and smog</td>\n",
       "      <td>greenhouse gases</td>\n",
       "      <td>smoke and ash</td>\n",
       "      <td>magma</td>\n",
       "      <td>C</td>\n",
       "      <td>Earth Sciences</td>\n",
       "      <td>Geology</td>\n",
       "    </tr>\n",
       "  </tbody>\n",
       "</table>\n",
       "</div>"
      ],
      "text/plain": [
       "                                            Question                   A  \\\n",
       "0  What type of organism is commonly used in prep...         gymnosperms   \n",
       "1  What phenomenon makes global winds blow northe...  centrifugal effect   \n",
       "2  Changes from a less-ordered state to a more-or...            reactive   \n",
       "3     What is the least dangerous radioactive decay?         gamma decay   \n",
       "4  Kilauea in hawaii is the world’s most continuo...     carbon and smog   \n",
       "\n",
       "                  B                     C                D Correct Option  \\\n",
       "0          protozoa  mesophilic organisms          viruses              C   \n",
       "1   coriolis effect           muon effect  tropical effect              B   \n",
       "2        unbalanced            exothermic      endothermic              C   \n",
       "3       alpha decay            beta decay       zeta decay              B   \n",
       "4  greenhouse gases         smoke and ash            magma              C   \n",
       "\n",
       "      Main Branch                    Sub-Branch  \n",
       "0         Biology                  Microbiology  \n",
       "1  Earth Sciences           Atmospheric Science  \n",
       "2         Physics                Thermodynamics  \n",
       "3         Physics  Nuclear and Particle Physics  \n",
       "4  Earth Sciences                       Geology  "
      ]
     },
     "execution_count": 3,
     "metadata": {},
     "output_type": "execute_result"
    }
   ],
   "source": [
    "file_path_SciQ = r'C:\\Users\\Bia\\OneDrive\\Ambiente de Trabalho\\TESE_2024\\DATASETS TESE\\FINAL DATASETS\\SciQ train\\SciQ_train.csv'\n",
    "\n",
    "# Load the CSV file into a DataFrame\n",
    "df_SciQ = pd.read_csv(file_path_SciQ)\n",
    "\n",
    "# Display the first few rows of the DataFrame\n",
    "df_SciQ.head()"
   ]
  },
  {
   "cell_type": "code",
   "execution_count": 4,
   "id": "c9b3c766",
   "metadata": {},
   "outputs": [
    {
     "data": {
      "text/plain": [
       "Anatomy/Physiology              1148\n",
       "Inorganic Chemistry              861\n",
       "Cell Biology                     670\n",
       "Geology                          595\n",
       "Biochemistry                     580\n",
       "Zoology                          569\n",
       "Ecology                          567\n",
       "Botany                           479\n",
       "Genetics                         413\n",
       "Physical Chemistry               354\n",
       "Mechanics                        303\n",
       "Organic Chemistry                276\n",
       "Astronomy                        275\n",
       "Reproductive Biology             274\n",
       "Thermodynamics                   256\n",
       "Microbiology                     255\n",
       "Geography                        250\n",
       "Neuroscience                     244\n",
       "Electromagnetism                 198\n",
       "Evolutionary Biology             187\n",
       "Nuclear and Particle Physics     187\n",
       "Atmospheric Science              177\n",
       "Marine Biology                   172\n",
       "Environmental Science            140\n",
       "Acoustics                        132\n",
       "Optics                           126\n",
       "Atomic Physics                   121\n",
       "Oceanography                      93\n",
       "Name: Sub-Branch, dtype: int64"
      ]
     },
     "execution_count": 4,
     "metadata": {},
     "output_type": "execute_result"
    }
   ],
   "source": [
    "df_SciQ['Sub-Branch'].value_counts()"
   ]
  },
  {
   "cell_type": "code",
   "execution_count": 5,
   "id": "9459bb5b",
   "metadata": {},
   "outputs": [],
   "source": [
    "#do the random selction using the function above defined\n",
    "\n",
    "# Apply the sampling function to each sub-branch\n",
    "df_SciQ_sampled = df_SciQ.groupby('Sub-Branch', group_keys=False).apply(sample_rows)\n",
    "\n",
    "# Reset index if desired\n",
    "df_SciQ_sampled.reset_index(drop=True, inplace=True)"
   ]
  },
  {
   "cell_type": "code",
   "execution_count": 6,
   "id": "0a08fa9b",
   "metadata": {},
   "outputs": [
    {
     "data": {
      "text/html": [
       "<div>\n",
       "<style scoped>\n",
       "    .dataframe tbody tr th:only-of-type {\n",
       "        vertical-align: middle;\n",
       "    }\n",
       "\n",
       "    .dataframe tbody tr th {\n",
       "        vertical-align: top;\n",
       "    }\n",
       "\n",
       "    .dataframe thead th {\n",
       "        text-align: right;\n",
       "    }\n",
       "</style>\n",
       "<table border=\"1\" class=\"dataframe\">\n",
       "  <thead>\n",
       "    <tr style=\"text-align: right;\">\n",
       "      <th></th>\n",
       "      <th>Question</th>\n",
       "      <th>A</th>\n",
       "      <th>B</th>\n",
       "      <th>C</th>\n",
       "      <th>D</th>\n",
       "      <th>Correct Option</th>\n",
       "      <th>Main Branch</th>\n",
       "      <th>Sub-Branch</th>\n",
       "    </tr>\n",
       "  </thead>\n",
       "  <tbody>\n",
       "    <tr>\n",
       "      <th>0</th>\n",
       "      <td>The scale that is used to measure the loudness...</td>\n",
       "      <td>decibels</td>\n",
       "      <td>waves</td>\n",
       "      <td>weight</td>\n",
       "      <td>centimeters</td>\n",
       "      <td>A</td>\n",
       "      <td>Physics</td>\n",
       "      <td>Acoustics</td>\n",
       "    </tr>\n",
       "    <tr>\n",
       "      <th>1</th>\n",
       "      <td>What hits the eardrum and causes it to vibrate?</td>\n",
       "      <td>decibels</td>\n",
       "      <td>sound waves</td>\n",
       "      <td>cilia</td>\n",
       "      <td>microwaves</td>\n",
       "      <td>B</td>\n",
       "      <td>Physics</td>\n",
       "      <td>Acoustics</td>\n",
       "    </tr>\n",
       "    <tr>\n",
       "      <th>2</th>\n",
       "      <td>The frequency of a wave is the reciprocal of w...</td>\n",
       "      <td>period</td>\n",
       "      <td>amplitude</td>\n",
       "      <td>length</td>\n",
       "      <td>term</td>\n",
       "      <td>A</td>\n",
       "      <td>Physics</td>\n",
       "      <td>Acoustics</td>\n",
       "    </tr>\n",
       "    <tr>\n",
       "      <th>3</th>\n",
       "      <td>What were the first particles with mass to be ...</td>\n",
       "      <td>protons</td>\n",
       "      <td>negatrons</td>\n",
       "      <td>ions</td>\n",
       "      <td>electrons</td>\n",
       "      <td>D</td>\n",
       "      <td>Physics</td>\n",
       "      <td>Acoustics</td>\n",
       "    </tr>\n",
       "    <tr>\n",
       "      <th>4</th>\n",
       "      <td>What is the time interval required for one com...</td>\n",
       "      <td>period</td>\n",
       "      <td>minute</td>\n",
       "      <td>cycle</td>\n",
       "      <td>half-life</td>\n",
       "      <td>A</td>\n",
       "      <td>Physics</td>\n",
       "      <td>Acoustics</td>\n",
       "    </tr>\n",
       "  </tbody>\n",
       "</table>\n",
       "</div>"
      ],
      "text/plain": [
       "                                            Question         A            B  \\\n",
       "0  The scale that is used to measure the loudness...  decibels        waves   \n",
       "1    What hits the eardrum and causes it to vibrate?  decibels  sound waves   \n",
       "2  The frequency of a wave is the reciprocal of w...    period    amplitude   \n",
       "3  What were the first particles with mass to be ...   protons    negatrons   \n",
       "4  What is the time interval required for one com...    period       minute   \n",
       "\n",
       "        C            D Correct Option Main Branch Sub-Branch  \n",
       "0  weight  centimeters              A     Physics  Acoustics  \n",
       "1   cilia   microwaves              B     Physics  Acoustics  \n",
       "2  length         term              A     Physics  Acoustics  \n",
       "3    ions    electrons              D     Physics  Acoustics  \n",
       "4   cycle    half-life              A     Physics  Acoustics  "
      ]
     },
     "execution_count": 6,
     "metadata": {},
     "output_type": "execute_result"
    }
   ],
   "source": [
    "df_SciQ_sampled.head() #check"
   ]
  },
  {
   "cell_type": "code",
   "execution_count": 7,
   "id": "338214fb",
   "metadata": {},
   "outputs": [
    {
     "data": {
      "text/plain": [
       "Acoustics                       90\n",
       "Anatomy/Physiology              90\n",
       "Thermodynamics                  90\n",
       "Reproductive Biology            90\n",
       "Physical Chemistry              90\n",
       "Organic Chemistry               90\n",
       "Optics                          90\n",
       "Oceanography                    90\n",
       "Nuclear and Particle Physics    90\n",
       "Neuroscience                    90\n",
       "Microbiology                    90\n",
       "Mechanics                       90\n",
       "Marine Biology                  90\n",
       "Inorganic Chemistry             90\n",
       "Geology                         90\n",
       "Geography                       90\n",
       "Genetics                        90\n",
       "Evolutionary Biology            90\n",
       "Environmental Science           90\n",
       "Electromagnetism                90\n",
       "Ecology                         90\n",
       "Cell Biology                    90\n",
       "Botany                          90\n",
       "Biochemistry                    90\n",
       "Atomic Physics                  90\n",
       "Atmospheric Science             90\n",
       "Astronomy                       90\n",
       "Zoology                         90\n",
       "Name: Sub-Branch, dtype: int64"
      ]
     },
     "execution_count": 7,
     "metadata": {},
     "output_type": "execute_result"
    }
   ],
   "source": [
    "df_SciQ_sampled['Sub-Branch'].value_counts() #check"
   ]
  },
  {
   "cell_type": "code",
   "execution_count": 47,
   "id": "af1bf8ed",
   "metadata": {},
   "outputs": [],
   "source": [
    "#export to csv\n",
    "#df_SciQ_sampled.to_csv('df_SciQ_sampled.csv',index=False)"
   ]
  },
  {
   "cell_type": "code",
   "execution_count": 9,
   "id": "8e6de071",
   "metadata": {},
   "outputs": [
    {
     "data": {
      "text/plain": [
       "(2520, 8)"
      ]
     },
     "execution_count": 9,
     "metadata": {},
     "output_type": "execute_result"
    }
   ],
   "source": [
    "df_SciQ_sampled.shape"
   ]
  },
  {
   "cell_type": "code",
   "execution_count": 10,
   "id": "0b08bed6",
   "metadata": {},
   "outputs": [
    {
     "data": {
      "text/plain": [
       "(5, 28)"
      ]
     },
     "execution_count": 10,
     "metadata": {},
     "output_type": "execute_result"
    }
   ],
   "source": [
    "df_SciQ_sampled['Main Branch'].nunique(), df_SciQ_sampled['Sub-Branch'].nunique()"
   ]
  },
  {
   "cell_type": "markdown",
   "id": "4f261695",
   "metadata": {},
   "source": [
    "### MathQA Dataset"
   ]
  },
  {
   "cell_type": "code",
   "execution_count": 11,
   "id": "107f243c",
   "metadata": {},
   "outputs": [
    {
     "data": {
      "text/html": [
       "<div>\n",
       "<style scoped>\n",
       "    .dataframe tbody tr th:only-of-type {\n",
       "        vertical-align: middle;\n",
       "    }\n",
       "\n",
       "    .dataframe tbody tr th {\n",
       "        vertical-align: top;\n",
       "    }\n",
       "\n",
       "    .dataframe thead th {\n",
       "        text-align: right;\n",
       "    }\n",
       "</style>\n",
       "<table border=\"1\" class=\"dataframe\">\n",
       "  <thead>\n",
       "    <tr style=\"text-align: right;\">\n",
       "      <th></th>\n",
       "      <th>index</th>\n",
       "      <th>Question</th>\n",
       "      <th>A</th>\n",
       "      <th>B</th>\n",
       "      <th>C</th>\n",
       "      <th>D</th>\n",
       "      <th>E</th>\n",
       "      <th>Correct Option</th>\n",
       "      <th>Sub-Branch</th>\n",
       "    </tr>\n",
       "  </thead>\n",
       "  <tbody>\n",
       "    <tr>\n",
       "      <th>0</th>\n",
       "      <td>0</td>\n",
       "      <td>the banker ' s gain of a certain sum due 3 yea...</td>\n",
       "      <td>rs . 400</td>\n",
       "      <td>rs . 300</td>\n",
       "      <td>rs . 500</td>\n",
       "      <td>rs . 350</td>\n",
       "      <td>none of these</td>\n",
       "      <td>A</td>\n",
       "      <td>Gain</td>\n",
       "    </tr>\n",
       "    <tr>\n",
       "      <th>1</th>\n",
       "      <td>1</td>\n",
       "      <td>average age of students of an adult school is ...</td>\n",
       "      <td>1200</td>\n",
       "      <td>120</td>\n",
       "      <td>360</td>\n",
       "      <td>240</td>\n",
       "      <td>none of these</td>\n",
       "      <td>D</td>\n",
       "      <td>General</td>\n",
       "    </tr>\n",
       "    <tr>\n",
       "      <th>2</th>\n",
       "      <td>2</td>\n",
       "      <td>sophia finished 2 / 3 of a book . she calculat...</td>\n",
       "      <td>229</td>\n",
       "      <td>270</td>\n",
       "      <td>877</td>\n",
       "      <td>266</td>\n",
       "      <td>281</td>\n",
       "      <td>B</td>\n",
       "      <td>General</td>\n",
       "    </tr>\n",
       "    <tr>\n",
       "      <th>3</th>\n",
       "      <td>3</td>\n",
       "      <td>120 is what percent of 50 ?</td>\n",
       "      <td>5 %</td>\n",
       "      <td>240 %</td>\n",
       "      <td>50 %</td>\n",
       "      <td>2 %</td>\n",
       "      <td>500 %</td>\n",
       "      <td>B</td>\n",
       "      <td>Gain</td>\n",
       "    </tr>\n",
       "    <tr>\n",
       "      <th>4</th>\n",
       "      <td>4</td>\n",
       "      <td>there are 10 girls and 20 boys in a classroom ...</td>\n",
       "      <td>1 / 2</td>\n",
       "      <td>1 / 3</td>\n",
       "      <td>1 / 5</td>\n",
       "      <td>10 / 30</td>\n",
       "      <td>2 / 5</td>\n",
       "      <td>A</td>\n",
       "      <td>Other</td>\n",
       "    </tr>\n",
       "  </tbody>\n",
       "</table>\n",
       "</div>"
      ],
      "text/plain": [
       "   index                                           Question           A  \\\n",
       "0      0  the banker ' s gain of a certain sum due 3 yea...   rs . 400    \n",
       "1      1  average age of students of an adult school is ...       1200    \n",
       "2      2  sophia finished 2 / 3 of a book . she calculat...        229    \n",
       "3      3                        120 is what percent of 50 ?        5 %    \n",
       "4      4  there are 10 girls and 20 boys in a classroom ...      1 / 2    \n",
       "\n",
       "            B           C           D               E Correct Option  \\\n",
       "0   rs . 300    rs . 500    rs . 350    none of these              A   \n",
       "1        120         360         240    none of these              D   \n",
       "2        270         877         266              281              B   \n",
       "3      240 %        50 %         2 %            500 %              B   \n",
       "4      1 / 3       1 / 5     10 / 30            2 / 5              A   \n",
       "\n",
       "  Sub-Branch  \n",
       "0       Gain  \n",
       "1    General  \n",
       "2    General  \n",
       "3       Gain  \n",
       "4      Other  "
      ]
     },
     "execution_count": 11,
     "metadata": {},
     "output_type": "execute_result"
    }
   ],
   "source": [
    "file_path_MathQA = r'C:\\Users\\Bia\\OneDrive\\Ambiente de Trabalho\\TESE_2024\\DATASETS TESE\\FINAL DATASETS\\MathQ train\\MathQA_train.csv'\n",
    "\n",
    "# Load the CSV file into a DataFrame\n",
    "df_MathQA = pd.read_csv(file_path_MathQA)\n",
    "\n",
    "# Display the first few rows of the DataFrame\n",
    "df_MathQA.head()"
   ]
  },
  {
   "cell_type": "code",
   "execution_count": 12,
   "id": "92c6f80a",
   "metadata": {},
   "outputs": [
    {
     "data": {
      "text/plain": [
       "General        13273\n",
       "Physics         7063\n",
       "Gain            5120\n",
       "Geometry        2117\n",
       "Other           1814\n",
       "Probability      450\n",
       "Name: Sub-Branch, dtype: int64"
      ]
     },
     "execution_count": 12,
     "metadata": {},
     "output_type": "execute_result"
    }
   ],
   "source": [
    "df_MathQA['Sub-Branch'].value_counts()"
   ]
  },
  {
   "cell_type": "code",
   "execution_count": 13,
   "id": "64cc01ec",
   "metadata": {},
   "outputs": [],
   "source": [
    "#do the random selction using the function above defined\n",
    "\n",
    "# Apply the sampling function to each sub-branch\n",
    "df_MathQA_sampled = df_MathQA.groupby('Sub-Branch', group_keys=False).apply(sample_rows)\n",
    "\n",
    "# Reset index if desired\n",
    "df_MathQA_sampled.reset_index(drop=True, inplace=True)"
   ]
  },
  {
   "cell_type": "code",
   "execution_count": 14,
   "id": "7425fb11",
   "metadata": {},
   "outputs": [
    {
     "data": {
      "text/html": [
       "<div>\n",
       "<style scoped>\n",
       "    .dataframe tbody tr th:only-of-type {\n",
       "        vertical-align: middle;\n",
       "    }\n",
       "\n",
       "    .dataframe tbody tr th {\n",
       "        vertical-align: top;\n",
       "    }\n",
       "\n",
       "    .dataframe thead th {\n",
       "        text-align: right;\n",
       "    }\n",
       "</style>\n",
       "<table border=\"1\" class=\"dataframe\">\n",
       "  <thead>\n",
       "    <tr style=\"text-align: right;\">\n",
       "      <th></th>\n",
       "      <th>index</th>\n",
       "      <th>Question</th>\n",
       "      <th>A</th>\n",
       "      <th>B</th>\n",
       "      <th>C</th>\n",
       "      <th>D</th>\n",
       "      <th>E</th>\n",
       "      <th>Correct Option</th>\n",
       "      <th>Sub-Branch</th>\n",
       "    </tr>\n",
       "  </thead>\n",
       "  <tbody>\n",
       "    <tr>\n",
       "      <th>0</th>\n",
       "      <td>546</td>\n",
       "      <td>an article is bought for rs . 800 and sold for...</td>\n",
       "      <td>55 %</td>\n",
       "      <td>25.25 %</td>\n",
       "      <td>33.33 %</td>\n",
       "      <td>45 %</td>\n",
       "      <td>50 %</td>\n",
       "      <td>E</td>\n",
       "      <td>Gain</td>\n",
       "    </tr>\n",
       "    <tr>\n",
       "      <th>1</th>\n",
       "      <td>23993</td>\n",
       "      <td>a person buys an article at rs . 460 . at what...</td>\n",
       "      <td>542</td>\n",
       "      <td>882</td>\n",
       "      <td>772</td>\n",
       "      <td>662</td>\n",
       "      <td>521</td>\n",
       "      <td>A</td>\n",
       "      <td>Gain</td>\n",
       "    </tr>\n",
       "    <tr>\n",
       "      <th>2</th>\n",
       "      <td>11504</td>\n",
       "      <td>a , b and c started a business with capitals o...</td>\n",
       "      <td>621</td>\n",
       "      <td>276</td>\n",
       "      <td>236</td>\n",
       "      <td>600</td>\n",
       "      <td>1200</td>\n",
       "      <td>E</td>\n",
       "      <td>Gain</td>\n",
       "    </tr>\n",
       "    <tr>\n",
       "      <th>3</th>\n",
       "      <td>14533</td>\n",
       "      <td>by selling an article at rs . 800 , a shopkeep...</td>\n",
       "      <td>s . 416</td>\n",
       "      <td>s . 480</td>\n",
       "      <td>s . 429</td>\n",
       "      <td>s . 128</td>\n",
       "      <td>s . 419</td>\n",
       "      <td>A</td>\n",
       "      <td>Gain</td>\n",
       "    </tr>\n",
       "    <tr>\n",
       "      <th>4</th>\n",
       "      <td>6349</td>\n",
       "      <td>from january 1 , 1991 , to january 1 , 1993 , ...</td>\n",
       "      <td>38</td>\n",
       "      <td>39</td>\n",
       "      <td>40</td>\n",
       "      <td>41</td>\n",
       "      <td>42</td>\n",
       "      <td>E</td>\n",
       "      <td>Gain</td>\n",
       "    </tr>\n",
       "  </tbody>\n",
       "</table>\n",
       "</div>"
      ],
      "text/plain": [
       "   index                                           Question          A  \\\n",
       "0    546  an article is bought for rs . 800 and sold for...      55 %    \n",
       "1  23993  a person buys an article at rs . 460 . at what...       542    \n",
       "2  11504  a , b and c started a business with capitals o...       621    \n",
       "3  14533  by selling an article at rs . 800 , a shopkeep...   s . 416    \n",
       "4   6349  from january 1 , 1991 , to january 1 , 1993 , ...        38    \n",
       "\n",
       "           B          C          D         E Correct Option Sub-Branch  \n",
       "0   25.25 %    33.33 %       45 %       50 %              E       Gain  \n",
       "1       882        772        662        521              A       Gain  \n",
       "2       276        236        600       1200              E       Gain  \n",
       "3   s . 480    s . 429    s . 128    s . 419              A       Gain  \n",
       "4        39         40         41         42              E       Gain  "
      ]
     },
     "execution_count": 14,
     "metadata": {},
     "output_type": "execute_result"
    }
   ],
   "source": [
    "df_MathQA_sampled.head()"
   ]
  },
  {
   "cell_type": "code",
   "execution_count": 15,
   "id": "6e58f7f1",
   "metadata": {},
   "outputs": [],
   "source": [
    "df_MathQA_sampled.drop(columns=['index'], inplace=True)"
   ]
  },
  {
   "cell_type": "code",
   "execution_count": 16,
   "id": "ad61a69a",
   "metadata": {},
   "outputs": [
    {
     "data": {
      "text/plain": [
       "Gain           90\n",
       "General        90\n",
       "Geometry       90\n",
       "Other          90\n",
       "Physics        90\n",
       "Probability    90\n",
       "Name: Sub-Branch, dtype: int64"
      ]
     },
     "execution_count": 16,
     "metadata": {},
     "output_type": "execute_result"
    }
   ],
   "source": [
    "df_MathQA_sampled['Sub-Branch'].value_counts()"
   ]
  },
  {
   "cell_type": "code",
   "execution_count": 48,
   "id": "a90becf2",
   "metadata": {},
   "outputs": [],
   "source": [
    "#export as csv\n",
    "#df_MathQA_sampled.to_csv('df_MathQA_sampled.csv',index=False)"
   ]
  },
  {
   "cell_type": "code",
   "execution_count": 18,
   "id": "d860076c",
   "metadata": {},
   "outputs": [
    {
     "data": {
      "text/plain": [
       "((540, 8), 6)"
      ]
     },
     "execution_count": 18,
     "metadata": {},
     "output_type": "execute_result"
    }
   ],
   "source": [
    "df_MathQA_sampled.shape, df_MathQA_sampled['Sub-Branch'].nunique()"
   ]
  },
  {
   "cell_type": "markdown",
   "id": "db696f3e",
   "metadata": {},
   "source": [
    "### MedMCQA Dataset"
   ]
  },
  {
   "cell_type": "code",
   "execution_count": 19,
   "id": "880cce5f",
   "metadata": {},
   "outputs": [
    {
     "data": {
      "text/html": [
       "<div>\n",
       "<style scoped>\n",
       "    .dataframe tbody tr th:only-of-type {\n",
       "        vertical-align: middle;\n",
       "    }\n",
       "\n",
       "    .dataframe tbody tr th {\n",
       "        vertical-align: top;\n",
       "    }\n",
       "\n",
       "    .dataframe thead th {\n",
       "        text-align: right;\n",
       "    }\n",
       "</style>\n",
       "<table border=\"1\" class=\"dataframe\">\n",
       "  <thead>\n",
       "    <tr style=\"text-align: right;\">\n",
       "      <th></th>\n",
       "      <th>Question</th>\n",
       "      <th>A</th>\n",
       "      <th>B</th>\n",
       "      <th>C</th>\n",
       "      <th>D</th>\n",
       "      <th>Correct Option</th>\n",
       "      <th>Subject</th>\n",
       "    </tr>\n",
       "  </thead>\n",
       "  <tbody>\n",
       "    <tr>\n",
       "      <th>0</th>\n",
       "      <td>Chronic urethral obstruction due to benign pri...</td>\n",
       "      <td>Hyperplasia</td>\n",
       "      <td>Hyperophy</td>\n",
       "      <td>Atrophy</td>\n",
       "      <td>Dyplasia</td>\n",
       "      <td>C</td>\n",
       "      <td>Anatomy</td>\n",
       "    </tr>\n",
       "    <tr>\n",
       "      <th>1</th>\n",
       "      <td>Which vitamin is supplied from only animal sou...</td>\n",
       "      <td>Vitamin C</td>\n",
       "      <td>Vitamin B7</td>\n",
       "      <td>Vitamin B12</td>\n",
       "      <td>Vitamin D</td>\n",
       "      <td>C</td>\n",
       "      <td>Biochemistry</td>\n",
       "    </tr>\n",
       "    <tr>\n",
       "      <th>2</th>\n",
       "      <td>Per rectum examination is not a useful test fo...</td>\n",
       "      <td>Anal fissure</td>\n",
       "      <td>Hemorrhoid</td>\n",
       "      <td>Pilonidal sinus</td>\n",
       "      <td>Rectal ulcer</td>\n",
       "      <td>C</td>\n",
       "      <td>Surgery</td>\n",
       "    </tr>\n",
       "    <tr>\n",
       "      <th>3</th>\n",
       "      <td>Naglers reaction is shown by</td>\n",
       "      <td>Clostridium tetani</td>\n",
       "      <td>Clostridium botulinum</td>\n",
       "      <td>Clostridium perfringens</td>\n",
       "      <td>Clostridium septicum</td>\n",
       "      <td>C</td>\n",
       "      <td>Microbiology</td>\n",
       "    </tr>\n",
       "    <tr>\n",
       "      <th>4</th>\n",
       "      <td>The pharmakokinetic change occurring in geriat...</td>\n",
       "      <td>Gastric absorption</td>\n",
       "      <td>Liver metabolism</td>\n",
       "      <td>Renal clearance</td>\n",
       "      <td>Hypersensitivity</td>\n",
       "      <td>C</td>\n",
       "      <td>Anatomy</td>\n",
       "    </tr>\n",
       "  </tbody>\n",
       "</table>\n",
       "</div>"
      ],
      "text/plain": [
       "                                            Question                   A  \\\n",
       "0  Chronic urethral obstruction due to benign pri...         Hyperplasia   \n",
       "1  Which vitamin is supplied from only animal sou...           Vitamin C   \n",
       "2  Per rectum examination is not a useful test fo...        Anal fissure   \n",
       "3                       Naglers reaction is shown by  Clostridium tetani   \n",
       "4  The pharmakokinetic change occurring in geriat...  Gastric absorption   \n",
       "\n",
       "                       B                        C                     D  \\\n",
       "0              Hyperophy                  Atrophy              Dyplasia   \n",
       "1             Vitamin B7              Vitamin B12             Vitamin D   \n",
       "2             Hemorrhoid          Pilonidal sinus          Rectal ulcer   \n",
       "3  Clostridium botulinum  Clostridium perfringens  Clostridium septicum   \n",
       "4       Liver metabolism          Renal clearance      Hypersensitivity   \n",
       "\n",
       "  Correct Option       Subject  \n",
       "0              C       Anatomy  \n",
       "1              C  Biochemistry  \n",
       "2              C       Surgery  \n",
       "3              C  Microbiology  \n",
       "4              C       Anatomy  "
      ]
     },
     "execution_count": 19,
     "metadata": {},
     "output_type": "execute_result"
    }
   ],
   "source": [
    "file_path_MedQA = r'C:\\Users\\Bia\\OneDrive\\Ambiente de Trabalho\\TESE_2024\\DATASETS TESE\\FINAL DATASETS\\MedCQA train\\MedQA_train.csv'\n",
    "\n",
    "# Load the CSV file into a DataFrame\n",
    "df_MedQA = pd.read_csv(file_path_MedQA)\n",
    "\n",
    "# Display the first few rows of the DataFrame\n",
    "df_MedQA.head()"
   ]
  },
  {
   "cell_type": "code",
   "execution_count": 20,
   "id": "f11721c0",
   "metadata": {},
   "outputs": [
    {
     "data": {
      "text/plain": [
       "Anatomy                         6087\n",
       "Medicine                        5825\n",
       "Pathology                       4899\n",
       "Pharmacology                    4889\n",
       "Surgery                         4579\n",
       "Social & Preventive Medicine    4162\n",
       "Microbiology                    4010\n",
       "Physiology                      3678\n",
       "Biochemistry                    3503\n",
       "Gynaecology & Obstetrics        3228\n",
       "Pediatrics                      2879\n",
       "Ophthalmology                   2161\n",
       "Forensic Medicine               1789\n",
       "ENT                             1718\n",
       "Orthopaedics                    1505\n",
       "Psychiatry                      1336\n",
       "Radiology                       1299\n",
       "Anaesthesia                     1033\n",
       "Dental                           773\n",
       "Skin                             481\n",
       "Name: Subject, dtype: int64"
      ]
     },
     "execution_count": 20,
     "metadata": {},
     "output_type": "execute_result"
    }
   ],
   "source": [
    "df_MedQA['Subject'].value_counts()"
   ]
  },
  {
   "cell_type": "code",
   "execution_count": 21,
   "id": "8b3d643c",
   "metadata": {},
   "outputs": [],
   "source": [
    "#do the random selction using the function above defined\n",
    "\n",
    "# Apply the sampling function to each sub-branch\n",
    "df_MedQA_sampled = df_MedQA.groupby('Subject', group_keys=False).apply(sample_rows)\n",
    "\n",
    "# Reset index if desired\n",
    "df_MedQA_sampled.reset_index(drop=True, inplace=True)"
   ]
  },
  {
   "cell_type": "code",
   "execution_count": 22,
   "id": "596bad1f",
   "metadata": {},
   "outputs": [
    {
     "data": {
      "text/html": [
       "<div>\n",
       "<style scoped>\n",
       "    .dataframe tbody tr th:only-of-type {\n",
       "        vertical-align: middle;\n",
       "    }\n",
       "\n",
       "    .dataframe tbody tr th {\n",
       "        vertical-align: top;\n",
       "    }\n",
       "\n",
       "    .dataframe thead th {\n",
       "        text-align: right;\n",
       "    }\n",
       "</style>\n",
       "<table border=\"1\" class=\"dataframe\">\n",
       "  <thead>\n",
       "    <tr style=\"text-align: right;\">\n",
       "      <th></th>\n",
       "      <th>Question</th>\n",
       "      <th>A</th>\n",
       "      <th>B</th>\n",
       "      <th>C</th>\n",
       "      <th>D</th>\n",
       "      <th>Correct Option</th>\n",
       "      <th>Subject</th>\n",
       "    </tr>\n",
       "  </thead>\n",
       "  <tbody>\n",
       "    <tr>\n",
       "      <th>0</th>\n",
       "      <td>Drug producing dissociative anesthesia:</td>\n",
       "      <td>Propofol</td>\n",
       "      <td>Enflurane</td>\n",
       "      <td>Ketamine</td>\n",
       "      <td>Sevoflurane</td>\n",
       "      <td>C</td>\n",
       "      <td>Anaesthesia</td>\n",
       "    </tr>\n",
       "    <tr>\n",
       "      <th>1</th>\n",
       "      <td>The order of sensory blockade of local anesthe...</td>\n",
       "      <td>Temperature - pain - touch - pressure</td>\n",
       "      <td>Pain - pressure - touch - temperature</td>\n",
       "      <td>Touch - pressure - temperature - pain</td>\n",
       "      <td>Touch - pain - pressure - temperature</td>\n",
       "      <td>A</td>\n",
       "      <td>Anaesthesia</td>\n",
       "    </tr>\n",
       "    <tr>\n",
       "      <th>2</th>\n",
       "      <td>Intravenous anaesthetic drug that doesn't indu...</td>\n",
       "      <td>Thiopentone</td>\n",
       "      <td>Ketamine</td>\n",
       "      <td>Propofol</td>\n",
       "      <td>Methohexitone</td>\n",
       "      <td>A</td>\n",
       "      <td>Anaesthesia</td>\n",
       "    </tr>\n",
       "    <tr>\n",
       "      <th>3</th>\n",
       "      <td>Drug that does not causes cardiac depression:-</td>\n",
       "      <td>Propofol</td>\n",
       "      <td>Ketamine</td>\n",
       "      <td>Etomidate</td>\n",
       "      <td>Thiopentone</td>\n",
       "      <td>C</td>\n",
       "      <td>Anaesthesia</td>\n",
       "    </tr>\n",
       "    <tr>\n",
       "      <th>4</th>\n",
       "      <td>A resident at the emergency department is prep...</td>\n",
       "      <td>Ligamentum flavum</td>\n",
       "      <td>Arachnoid membrane</td>\n",
       "      <td>Areolar tissue</td>\n",
       "      <td>Subarachnoid space</td>\n",
       "      <td>A</td>\n",
       "      <td>Anaesthesia</td>\n",
       "    </tr>\n",
       "  </tbody>\n",
       "</table>\n",
       "</div>"
      ],
      "text/plain": [
       "                                            Question  \\\n",
       "0            Drug producing dissociative anesthesia:   \n",
       "1  The order of sensory blockade of local anesthe...   \n",
       "2  Intravenous anaesthetic drug that doesn't indu...   \n",
       "3     Drug that does not causes cardiac depression:-   \n",
       "4  A resident at the emergency department is prep...   \n",
       "\n",
       "                                       A  \\\n",
       "0                               Propofol   \n",
       "1  Temperature - pain - touch - pressure   \n",
       "2                            Thiopentone   \n",
       "3                               Propofol   \n",
       "4                      Ligamentum flavum   \n",
       "\n",
       "                                       B  \\\n",
       "0                              Enflurane   \n",
       "1  Pain - pressure - touch - temperature   \n",
       "2                               Ketamine   \n",
       "3                               Ketamine   \n",
       "4                     Arachnoid membrane   \n",
       "\n",
       "                                       C  \\\n",
       "0                               Ketamine   \n",
       "1  Touch - pressure - temperature - pain   \n",
       "2                               Propofol   \n",
       "3                              Etomidate   \n",
       "4                         Areolar tissue   \n",
       "\n",
       "                                       D Correct Option      Subject  \n",
       "0                            Sevoflurane              C  Anaesthesia  \n",
       "1  Touch - pain - pressure - temperature              A  Anaesthesia  \n",
       "2                          Methohexitone              A  Anaesthesia  \n",
       "3                            Thiopentone              C  Anaesthesia  \n",
       "4                     Subarachnoid space              A  Anaesthesia  "
      ]
     },
     "execution_count": 22,
     "metadata": {},
     "output_type": "execute_result"
    }
   ],
   "source": [
    "df_MedQA_sampled.head()"
   ]
  },
  {
   "cell_type": "code",
   "execution_count": 23,
   "id": "efe7a375",
   "metadata": {},
   "outputs": [
    {
     "data": {
      "text/plain": [
       "Anaesthesia                     90\n",
       "Anatomy                         90\n",
       "Social & Preventive Medicine    90\n",
       "Skin                            90\n",
       "Radiology                       90\n",
       "Psychiatry                      90\n",
       "Physiology                      90\n",
       "Pharmacology                    90\n",
       "Pediatrics                      90\n",
       "Pathology                       90\n",
       "Orthopaedics                    90\n",
       "Ophthalmology                   90\n",
       "Microbiology                    90\n",
       "Medicine                        90\n",
       "Gynaecology & Obstetrics        90\n",
       "Forensic Medicine               90\n",
       "ENT                             90\n",
       "Dental                          90\n",
       "Biochemistry                    90\n",
       "Surgery                         90\n",
       "Name: Subject, dtype: int64"
      ]
     },
     "execution_count": 23,
     "metadata": {},
     "output_type": "execute_result"
    }
   ],
   "source": [
    "df_MedQA_sampled['Subject'].value_counts()"
   ]
  },
  {
   "cell_type": "code",
   "execution_count": 49,
   "id": "0a05283d",
   "metadata": {},
   "outputs": [],
   "source": [
    "#export as csv\n",
    "#df_MedQA_sampled.to_csv('df_MedQA_sampled.csv',index=False)"
   ]
  },
  {
   "cell_type": "code",
   "execution_count": 25,
   "id": "72423d25",
   "metadata": {},
   "outputs": [
    {
     "data": {
      "text/plain": [
       "((1800, 7), 20)"
      ]
     },
     "execution_count": 25,
     "metadata": {},
     "output_type": "execute_result"
    }
   ],
   "source": [
    "df_MedQA_sampled.shape, df_MedQA_sampled['Subject'].nunique()"
   ]
  },
  {
   "cell_type": "markdown",
   "id": "a24f1799",
   "metadata": {},
   "source": [
    "### CommonSenseQa Dataset"
   ]
  },
  {
   "cell_type": "code",
   "execution_count": 26,
   "id": "efada3a8",
   "metadata": {},
   "outputs": [
    {
     "data": {
      "text/html": [
       "<div>\n",
       "<style scoped>\n",
       "    .dataframe tbody tr th:only-of-type {\n",
       "        vertical-align: middle;\n",
       "    }\n",
       "\n",
       "    .dataframe tbody tr th {\n",
       "        vertical-align: top;\n",
       "    }\n",
       "\n",
       "    .dataframe thead th {\n",
       "        text-align: right;\n",
       "    }\n",
       "</style>\n",
       "<table border=\"1\" class=\"dataframe\">\n",
       "  <thead>\n",
       "    <tr style=\"text-align: right;\">\n",
       "      <th></th>\n",
       "      <th>Question</th>\n",
       "      <th>A</th>\n",
       "      <th>B</th>\n",
       "      <th>C</th>\n",
       "      <th>D</th>\n",
       "      <th>E</th>\n",
       "      <th>Correct Option</th>\n",
       "    </tr>\n",
       "  </thead>\n",
       "  <tbody>\n",
       "    <tr>\n",
       "      <th>0</th>\n",
       "      <td>The sanctions against the school were a punish...</td>\n",
       "      <td>ignore</td>\n",
       "      <td>enforce</td>\n",
       "      <td>authoritarian</td>\n",
       "      <td>yell at</td>\n",
       "      <td>avoid</td>\n",
       "      <td>A</td>\n",
       "    </tr>\n",
       "    <tr>\n",
       "      <th>1</th>\n",
       "      <td>Sammy wanted to go to where the people were.  ...</td>\n",
       "      <td>race track</td>\n",
       "      <td>populated areas</td>\n",
       "      <td>the desert</td>\n",
       "      <td>apartment</td>\n",
       "      <td>roadblock</td>\n",
       "      <td>B</td>\n",
       "    </tr>\n",
       "    <tr>\n",
       "      <th>2</th>\n",
       "      <td>To locate a choker not located in a jewelry bo...</td>\n",
       "      <td>jewelry store</td>\n",
       "      <td>neck</td>\n",
       "      <td>jewlery box</td>\n",
       "      <td>jewelry box</td>\n",
       "      <td>boutique</td>\n",
       "      <td>A</td>\n",
       "    </tr>\n",
       "    <tr>\n",
       "      <th>3</th>\n",
       "      <td>Google Maps and other highway and street GPS s...</td>\n",
       "      <td>united states</td>\n",
       "      <td>mexico</td>\n",
       "      <td>countryside</td>\n",
       "      <td>atlas</td>\n",
       "      <td>oceans</td>\n",
       "      <td>D</td>\n",
       "    </tr>\n",
       "    <tr>\n",
       "      <th>4</th>\n",
       "      <td>The fox walked from the city into the forest, ...</td>\n",
       "      <td>pretty flowers.</td>\n",
       "      <td>hen house</td>\n",
       "      <td>natural habitat</td>\n",
       "      <td>storybook</td>\n",
       "      <td>dense forest</td>\n",
       "      <td>C</td>\n",
       "    </tr>\n",
       "  </tbody>\n",
       "</table>\n",
       "</div>"
      ],
      "text/plain": [
       "                                            Question                A  \\\n",
       "0  The sanctions against the school were a punish...           ignore   \n",
       "1  Sammy wanted to go to where the people were.  ...       race track   \n",
       "2  To locate a choker not located in a jewelry bo...    jewelry store   \n",
       "3  Google Maps and other highway and street GPS s...    united states   \n",
       "4  The fox walked from the city into the forest, ...  pretty flowers.   \n",
       "\n",
       "                 B                C            D             E Correct Option  \n",
       "0          enforce    authoritarian      yell at         avoid              A  \n",
       "1  populated areas       the desert    apartment     roadblock              B  \n",
       "2             neck      jewlery box  jewelry box      boutique              A  \n",
       "3           mexico      countryside        atlas        oceans              D  \n",
       "4        hen house  natural habitat    storybook  dense forest              C  "
      ]
     },
     "execution_count": 26,
     "metadata": {},
     "output_type": "execute_result"
    }
   ],
   "source": [
    "file_path_ComSen = r'C:\\Users\\Bia\\OneDrive\\Ambiente de Trabalho\\TESE_2024\\DATASETS TESE\\FINAL DATASETS\\ComSens train\\ComSenQA_train.csv'\n",
    "\n",
    "# Load the CSV file into a DataFrame\n",
    "df_ComSenQA = pd.read_csv(file_path_ComSen)\n",
    "\n",
    "# Display the first few rows of the DataFrame\n",
    "df_ComSenQA.head()"
   ]
  },
  {
   "cell_type": "code",
   "execution_count": 27,
   "id": "0c9f5bfd",
   "metadata": {},
   "outputs": [
    {
     "data": {
      "text/plain": [
       "(9741, 7)"
      ]
     },
     "execution_count": 27,
     "metadata": {},
     "output_type": "execute_result"
    }
   ],
   "source": [
    "df_ComSenQA.shape"
   ]
  },
  {
   "cell_type": "code",
   "execution_count": 28,
   "id": "11d6761e",
   "metadata": {},
   "outputs": [],
   "source": [
    "#select 90 random rows from df\n",
    "df_ComSenQA_sampled=df_ComSenQA.sample(n=90, replace=False)\n",
    "df_ComSenQA_sampled.reset_index(drop=True, inplace=True)"
   ]
  },
  {
   "cell_type": "code",
   "execution_count": 29,
   "id": "2b89edd7",
   "metadata": {},
   "outputs": [
    {
     "data": {
      "text/html": [
       "<div>\n",
       "<style scoped>\n",
       "    .dataframe tbody tr th:only-of-type {\n",
       "        vertical-align: middle;\n",
       "    }\n",
       "\n",
       "    .dataframe tbody tr th {\n",
       "        vertical-align: top;\n",
       "    }\n",
       "\n",
       "    .dataframe thead th {\n",
       "        text-align: right;\n",
       "    }\n",
       "</style>\n",
       "<table border=\"1\" class=\"dataframe\">\n",
       "  <thead>\n",
       "    <tr style=\"text-align: right;\">\n",
       "      <th></th>\n",
       "      <th>Question</th>\n",
       "      <th>A</th>\n",
       "      <th>B</th>\n",
       "      <th>C</th>\n",
       "      <th>D</th>\n",
       "      <th>E</th>\n",
       "      <th>Correct Option</th>\n",
       "    </tr>\n",
       "  </thead>\n",
       "  <tbody>\n",
       "    <tr>\n",
       "      <th>0</th>\n",
       "      <td>The craftsman used elaborate joinery and panel...</td>\n",
       "      <td>swing door</td>\n",
       "      <td>entrance</td>\n",
       "      <td>wall</td>\n",
       "      <td>sliding door</td>\n",
       "      <td>exterior door</td>\n",
       "      <td>A</td>\n",
       "    </tr>\n",
       "    <tr>\n",
       "      <th>1</th>\n",
       "      <td>He wanted a saxophone, so he went where?</td>\n",
       "      <td>grocery store</td>\n",
       "      <td>case</td>\n",
       "      <td>marching band</td>\n",
       "      <td>orchestra</td>\n",
       "      <td>music store</td>\n",
       "      <td>E</td>\n",
       "    </tr>\n",
       "    <tr>\n",
       "      <th>2</th>\n",
       "      <td>Where will a book being read by one person be ...</td>\n",
       "      <td>school room</td>\n",
       "      <td>university</td>\n",
       "      <td>bedside table</td>\n",
       "      <td>pantry</td>\n",
       "      <td>discount store</td>\n",
       "      <td>C</td>\n",
       "    </tr>\n",
       "    <tr>\n",
       "      <th>3</th>\n",
       "      <td>I forgot to pay the electricity bill, now what...</td>\n",
       "      <td>put in to the water</td>\n",
       "      <td>cause fire</td>\n",
       "      <td>produce heat</td>\n",
       "      <td>short fuse</td>\n",
       "      <td>shock</td>\n",
       "      <td>C</td>\n",
       "    </tr>\n",
       "    <tr>\n",
       "      <th>4</th>\n",
       "      <td>Where is a dish usually used?</td>\n",
       "      <td>picnic</td>\n",
       "      <td>sink</td>\n",
       "      <td>kitchen cabinet</td>\n",
       "      <td>table</td>\n",
       "      <td>pantry</td>\n",
       "      <td>D</td>\n",
       "    </tr>\n",
       "  </tbody>\n",
       "</table>\n",
       "</div>"
      ],
      "text/plain": [
       "                                            Question                    A  \\\n",
       "0  The craftsman used elaborate joinery and panel...           swing door   \n",
       "1           He wanted a saxophone, so he went where?        grocery store   \n",
       "2  Where will a book being read by one person be ...          school room   \n",
       "3  I forgot to pay the electricity bill, now what...  put in to the water   \n",
       "4                      Where is a dish usually used?               picnic   \n",
       "\n",
       "            B                C             D               E Correct Option  \n",
       "0    entrance             wall  sliding door   exterior door              A  \n",
       "1        case    marching band     orchestra     music store              E  \n",
       "2  university    bedside table        pantry  discount store              C  \n",
       "3  cause fire     produce heat    short fuse           shock              C  \n",
       "4        sink  kitchen cabinet         table          pantry              D  "
      ]
     },
     "execution_count": 29,
     "metadata": {},
     "output_type": "execute_result"
    }
   ],
   "source": [
    "df_ComSenQA_sampled.head()"
   ]
  },
  {
   "cell_type": "code",
   "execution_count": 30,
   "id": "e9c7deef",
   "metadata": {},
   "outputs": [
    {
     "data": {
      "text/plain": [
       "(90, 7)"
      ]
     },
     "execution_count": 30,
     "metadata": {},
     "output_type": "execute_result"
    }
   ],
   "source": [
    "df_ComSenQA_sampled.shape"
   ]
  },
  {
   "cell_type": "code",
   "execution_count": 50,
   "id": "3808e5c7",
   "metadata": {},
   "outputs": [],
   "source": [
    "#export as csv\n",
    "#df_ComSenQA_sampled.to_csv('df_ComSenQA_sampled.csv',index=False)"
   ]
  },
  {
   "cell_type": "code",
   "execution_count": 32,
   "id": "f491dbca",
   "metadata": {},
   "outputs": [
    {
     "data": {
      "text/plain": [
       "(90, 7)"
      ]
     },
     "execution_count": 32,
     "metadata": {},
     "output_type": "execute_result"
    }
   ],
   "source": [
    "df_ComSenQA_sampled.shape"
   ]
  },
  {
   "cell_type": "markdown",
   "id": "b31f7b79",
   "metadata": {},
   "source": [
    "### MMLU Dataset"
   ]
  },
  {
   "cell_type": "code",
   "execution_count": 33,
   "id": "ae8e231c",
   "metadata": {},
   "outputs": [
    {
     "data": {
      "text/html": [
       "<div>\n",
       "<style scoped>\n",
       "    .dataframe tbody tr th:only-of-type {\n",
       "        vertical-align: middle;\n",
       "    }\n",
       "\n",
       "    .dataframe tbody tr th {\n",
       "        vertical-align: top;\n",
       "    }\n",
       "\n",
       "    .dataframe thead th {\n",
       "        text-align: right;\n",
       "    }\n",
       "</style>\n",
       "<table border=\"1\" class=\"dataframe\">\n",
       "  <thead>\n",
       "    <tr style=\"text-align: right;\">\n",
       "      <th></th>\n",
       "      <th>Question</th>\n",
       "      <th>A</th>\n",
       "      <th>B</th>\n",
       "      <th>C</th>\n",
       "      <th>D</th>\n",
       "      <th>Correct Option</th>\n",
       "      <th>Subject</th>\n",
       "    </tr>\n",
       "  </thead>\n",
       "  <tbody>\n",
       "    <tr>\n",
       "      <th>0</th>\n",
       "      <td>Identify the conclusion of the following argum...</td>\n",
       "      <td>It is hard not to verify in our peers the same...</td>\n",
       "      <td>The arrogance of our consciousness, which in g...</td>\n",
       "      <td>Because of this, it is difficult to convince p...</td>\n",
       "      <td>It is difficult to convince people of the unco...</td>\n",
       "      <td>D</td>\n",
       "      <td>Logic</td>\n",
       "    </tr>\n",
       "    <tr>\n",
       "      <th>1</th>\n",
       "      <td>Select the best translation into predicate log...</td>\n",
       "      <td>Tdc</td>\n",
       "      <td>Tcd</td>\n",
       "      <td>Tcc</td>\n",
       "      <td>dTc</td>\n",
       "      <td>A</td>\n",
       "      <td>Logic</td>\n",
       "    </tr>\n",
       "    <tr>\n",
       "      <th>2</th>\n",
       "      <td>Select the best English interpretation of the...</td>\n",
       "      <td>Some large houses are bigger than some apartme...</td>\n",
       "      <td>Some houses are bigger than all large apartments.</td>\n",
       "      <td>Some large apartments are bigger than some hou...</td>\n",
       "      <td>Some houses are bigger thatn some large apartm...</td>\n",
       "      <td>C</td>\n",
       "      <td>Logic</td>\n",
       "    </tr>\n",
       "    <tr>\n",
       "      <th>3</th>\n",
       "      <td>Construct a complete truth table for the follo...</td>\n",
       "      <td>Valid</td>\n",
       "      <td>Invalid. Counterexample when G and H are true</td>\n",
       "      <td>Invalid. Counterexample when G is true and H i...</td>\n",
       "      <td>Invalid. Counterexample when H is true and G i...</td>\n",
       "      <td>A</td>\n",
       "      <td>Logic</td>\n",
       "    </tr>\n",
       "    <tr>\n",
       "      <th>4</th>\n",
       "      <td>Use the following key to translate the given ...</td>\n",
       "      <td>If it's not the case that both Izzy plays Mine...</td>\n",
       "      <td>If it's both not the case that Izzy plays Mine...</td>\n",
       "      <td>Izzy playing Minecraft and Ashleigh stopping b...</td>\n",
       "      <td>Russell's making dinner is a sufficient condit...</td>\n",
       "      <td>B</td>\n",
       "      <td>Logic</td>\n",
       "    </tr>\n",
       "  </tbody>\n",
       "</table>\n",
       "</div>"
      ],
      "text/plain": [
       "                                            Question  \\\n",
       "0  Identify the conclusion of the following argum...   \n",
       "1  Select the best translation into predicate log...   \n",
       "2   Select the best English interpretation of the...   \n",
       "3  Construct a complete truth table for the follo...   \n",
       "4   Use the following key to translate the given ...   \n",
       "\n",
       "                                                   A  \\\n",
       "0  It is hard not to verify in our peers the same...   \n",
       "1                                                Tdc   \n",
       "2  Some large houses are bigger than some apartme...   \n",
       "3                                              Valid   \n",
       "4  If it's not the case that both Izzy plays Mine...   \n",
       "\n",
       "                                                   B  \\\n",
       "0  The arrogance of our consciousness, which in g...   \n",
       "1                                                Tcd   \n",
       "2  Some houses are bigger than all large apartments.   \n",
       "3      Invalid. Counterexample when G and H are true   \n",
       "4  If it's both not the case that Izzy plays Mine...   \n",
       "\n",
       "                                                   C  \\\n",
       "0  Because of this, it is difficult to convince p...   \n",
       "1                                                Tcc   \n",
       "2  Some large apartments are bigger than some hou...   \n",
       "3  Invalid. Counterexample when G is true and H i...   \n",
       "4  Izzy playing Minecraft and Ashleigh stopping b...   \n",
       "\n",
       "                                                   D Correct Option Subject  \n",
       "0  It is difficult to convince people of the unco...              D   Logic  \n",
       "1                                                dTc              A   Logic  \n",
       "2  Some houses are bigger thatn some large apartm...              C   Logic  \n",
       "3  Invalid. Counterexample when H is true and G i...              A   Logic  \n",
       "4  Russell's making dinner is a sufficient condit...              B   Logic  "
      ]
     },
     "execution_count": 33,
     "metadata": {},
     "output_type": "execute_result"
    }
   ],
   "source": [
    "file_path_MMLU = r'C:\\Users\\Bia\\OneDrive\\Ambiente de Trabalho\\TESE_2024\\DATASETS TESE\\FINAL DATASETS\\MMLU\\MMLU_train.csv'\n",
    "\n",
    "# Load the CSV file into a DataFrame\n",
    "df_MMLU = pd.read_csv(file_path_MMLU)\n",
    "\n",
    "# Display the first few rows of the DataFrame\n",
    "df_MMLU.head()"
   ]
  },
  {
   "cell_type": "code",
   "execution_count": 34,
   "id": "dd6cc2c0",
   "metadata": {},
   "outputs": [
    {
     "data": {
      "text/plain": [
       "Law                     1763\n",
       "Philosophy              1552\n",
       "Psychology/Sociology    1515\n",
       "History                  928\n",
       "Logic                    288\n",
       "Name: Subject, dtype: int64"
      ]
     },
     "execution_count": 34,
     "metadata": {},
     "output_type": "execute_result"
    }
   ],
   "source": [
    "df_MMLU['Subject'].value_counts()"
   ]
  },
  {
   "cell_type": "code",
   "execution_count": 35,
   "id": "68b3186d",
   "metadata": {},
   "outputs": [],
   "source": [
    "#do the random selction using the function above defined\n",
    "\n",
    "# Apply the sampling function to each sub-branch\n",
    "df_MMLU_sampled = df_MMLU.groupby('Subject', group_keys=False).apply(sample_rows)\n",
    "\n",
    "# Reset index if desired\n",
    "df_MMLU_sampled.reset_index(drop=True, inplace=True)"
   ]
  },
  {
   "cell_type": "code",
   "execution_count": 36,
   "id": "ebbfa957",
   "metadata": {},
   "outputs": [
    {
     "data": {
      "text/html": [
       "<div>\n",
       "<style scoped>\n",
       "    .dataframe tbody tr th:only-of-type {\n",
       "        vertical-align: middle;\n",
       "    }\n",
       "\n",
       "    .dataframe tbody tr th {\n",
       "        vertical-align: top;\n",
       "    }\n",
       "\n",
       "    .dataframe thead th {\n",
       "        text-align: right;\n",
       "    }\n",
       "</style>\n",
       "<table border=\"1\" class=\"dataframe\">\n",
       "  <thead>\n",
       "    <tr style=\"text-align: right;\">\n",
       "      <th></th>\n",
       "      <th>Question</th>\n",
       "      <th>A</th>\n",
       "      <th>B</th>\n",
       "      <th>C</th>\n",
       "      <th>D</th>\n",
       "      <th>Correct Option</th>\n",
       "      <th>Subject</th>\n",
       "    </tr>\n",
       "  </thead>\n",
       "  <tbody>\n",
       "    <tr>\n",
       "      <th>0</th>\n",
       "      <td>This question refers to the following informat...</td>\n",
       "      <td>The prosecution of a variety of wars by the Sp...</td>\n",
       "      <td>The development of a vibrant merchant class in...</td>\n",
       "      <td>A decrease in patronage of religious activitie...</td>\n",
       "      <td>A decrease in the frequency of voyages of expl...</td>\n",
       "      <td>A</td>\n",
       "      <td>History</td>\n",
       "    </tr>\n",
       "    <tr>\n",
       "      <th>1</th>\n",
       "      <td>This question refers to the following informat...</td>\n",
       "      <td>Financial problems caused by debts and low rev...</td>\n",
       "      <td>The legal system of France was not equitable.</td>\n",
       "      <td>The proliferation of Enlightenment ideals.</td>\n",
       "      <td>There was a lot of social and political inequa...</td>\n",
       "      <td>A</td>\n",
       "      <td>History</td>\n",
       "    </tr>\n",
       "    <tr>\n",
       "      <th>2</th>\n",
       "      <td>Virtually all of the crops important in the Eu...</td>\n",
       "      <td>were domesticated at the same time at communal...</td>\n",
       "      <td>were domesticated before groups became sedentary.</td>\n",
       "      <td>were independently domesticated in Europe</td>\n",
       "      <td>were imported from other regions.</td>\n",
       "      <td>D</td>\n",
       "      <td>History</td>\n",
       "    </tr>\n",
       "    <tr>\n",
       "      <th>3</th>\n",
       "      <td>This question refers to the following informat...</td>\n",
       "      <td>Establishment of the minimum wage law.</td>\n",
       "      <td>Enactment of laws regulating railroads.</td>\n",
       "      <td>Shift in U.S. currency from the gold standard ...</td>\n",
       "      <td>Creation of a price-support system for small-s...</td>\n",
       "      <td>B</td>\n",
       "      <td>History</td>\n",
       "    </tr>\n",
       "    <tr>\n",
       "      <th>4</th>\n",
       "      <td>This question refers to the following informat...</td>\n",
       "      <td>Pan-Africanism</td>\n",
       "      <td>Communism</td>\n",
       "      <td>African socialism</td>\n",
       "      <td>Neocolonialism</td>\n",
       "      <td>A</td>\n",
       "      <td>History</td>\n",
       "    </tr>\n",
       "  </tbody>\n",
       "</table>\n",
       "</div>"
      ],
      "text/plain": [
       "                                            Question  \\\n",
       "0  This question refers to the following informat...   \n",
       "1  This question refers to the following informat...   \n",
       "2  Virtually all of the crops important in the Eu...   \n",
       "3  This question refers to the following informat...   \n",
       "4  This question refers to the following informat...   \n",
       "\n",
       "                                                   A  \\\n",
       "0  The prosecution of a variety of wars by the Sp...   \n",
       "1  Financial problems caused by debts and low rev...   \n",
       "2  were domesticated at the same time at communal...   \n",
       "3             Establishment of the minimum wage law.   \n",
       "4                                     Pan-Africanism   \n",
       "\n",
       "                                                   B  \\\n",
       "0  The development of a vibrant merchant class in...   \n",
       "1      The legal system of France was not equitable.   \n",
       "2  were domesticated before groups became sedentary.   \n",
       "3            Enactment of laws regulating railroads.   \n",
       "4                                          Communism   \n",
       "\n",
       "                                                   C  \\\n",
       "0  A decrease in patronage of religious activitie...   \n",
       "1         The proliferation of Enlightenment ideals.   \n",
       "2          were independently domesticated in Europe   \n",
       "3  Shift in U.S. currency from the gold standard ...   \n",
       "4                                  African socialism   \n",
       "\n",
       "                                                   D Correct Option  Subject  \n",
       "0  A decrease in the frequency of voyages of expl...              A  History  \n",
       "1  There was a lot of social and political inequa...              A  History  \n",
       "2                  were imported from other regions.              D  History  \n",
       "3  Creation of a price-support system for small-s...              B  History  \n",
       "4                                     Neocolonialism              A  History  "
      ]
     },
     "execution_count": 36,
     "metadata": {},
     "output_type": "execute_result"
    }
   ],
   "source": [
    "df_MMLU_sampled.head()"
   ]
  },
  {
   "cell_type": "code",
   "execution_count": 37,
   "id": "7a1dc48f",
   "metadata": {},
   "outputs": [
    {
     "data": {
      "text/plain": [
       "History                 90\n",
       "Law                     90\n",
       "Logic                   90\n",
       "Philosophy              90\n",
       "Psychology/Sociology    90\n",
       "Name: Subject, dtype: int64"
      ]
     },
     "execution_count": 37,
     "metadata": {},
     "output_type": "execute_result"
    }
   ],
   "source": [
    "df_MMLU_sampled['Subject'].value_counts()"
   ]
  },
  {
   "cell_type": "code",
   "execution_count": 51,
   "id": "a9a0d72b",
   "metadata": {},
   "outputs": [],
   "source": [
    "#export as csv\n",
    "#df_MMLU_sampled.to_csv('df_MMLU_sampled.csv',index=False)"
   ]
  },
  {
   "cell_type": "code",
   "execution_count": 39,
   "id": "7e612bd3",
   "metadata": {},
   "outputs": [
    {
     "data": {
      "text/plain": [
       "((450, 7), 5)"
      ]
     },
     "execution_count": 39,
     "metadata": {},
     "output_type": "execute_result"
    }
   ],
   "source": [
    "df_MMLU_sampled.shape, df_MMLU_sampled['Subject'].nunique()"
   ]
  },
  {
   "cell_type": "markdown",
   "id": "4aeacc58",
   "metadata": {},
   "source": [
    "### Science_qa Dataset"
   ]
  },
  {
   "cell_type": "code",
   "execution_count": 40,
   "id": "39cdb8db",
   "metadata": {},
   "outputs": [
    {
     "data": {
      "text/html": [
       "<div>\n",
       "<style scoped>\n",
       "    .dataframe tbody tr th:only-of-type {\n",
       "        vertical-align: middle;\n",
       "    }\n",
       "\n",
       "    .dataframe tbody tr th {\n",
       "        vertical-align: top;\n",
       "    }\n",
       "\n",
       "    .dataframe thead th {\n",
       "        text-align: right;\n",
       "    }\n",
       "</style>\n",
       "<table border=\"1\" class=\"dataframe\">\n",
       "  <thead>\n",
       "    <tr style=\"text-align: right;\">\n",
       "      <th></th>\n",
       "      <th>Question</th>\n",
       "      <th>A</th>\n",
       "      <th>B</th>\n",
       "      <th>C</th>\n",
       "      <th>D</th>\n",
       "      <th>Correct Option</th>\n",
       "      <th>Subject</th>\n",
       "      <th>Topic</th>\n",
       "      <th>Category</th>\n",
       "    </tr>\n",
       "  </thead>\n",
       "  <tbody>\n",
       "    <tr>\n",
       "      <th>0</th>\n",
       "      <td>Which figure of speech is used in this text?\\n...</td>\n",
       "      <td>chiasmus</td>\n",
       "      <td>apostrophe</td>\n",
       "      <td>NaN</td>\n",
       "      <td>NaN</td>\n",
       "      <td>B</td>\n",
       "      <td>Language science</td>\n",
       "      <td>Figurative-language</td>\n",
       "      <td>Literary devices</td>\n",
       "    </tr>\n",
       "    <tr>\n",
       "      <th>1</th>\n",
       "      <td>What does the verbal irony in this text sugges...</td>\n",
       "      <td>The snoring is loud.</td>\n",
       "      <td>The snoring occurs in bursts.</td>\n",
       "      <td>NaN</td>\n",
       "      <td>NaN</td>\n",
       "      <td>A</td>\n",
       "      <td>Language science</td>\n",
       "      <td>Figurative-language</td>\n",
       "      <td>Literary devices</td>\n",
       "    </tr>\n",
       "    <tr>\n",
       "      <th>2</th>\n",
       "      <td>Is this a sentence fragment?\\nDuring the const...</td>\n",
       "      <td>no</td>\n",
       "      <td>yes</td>\n",
       "      <td>NaN</td>\n",
       "      <td>NaN</td>\n",
       "      <td>B</td>\n",
       "      <td>Language science</td>\n",
       "      <td>Writing-strategies</td>\n",
       "      <td>Sentences, fragments, and run-ons</td>\n",
       "    </tr>\n",
       "    <tr>\n",
       "      <th>3</th>\n",
       "      <td>Which tense does the sentence use?\\nMona will ...</td>\n",
       "      <td>present tense</td>\n",
       "      <td>future tense</td>\n",
       "      <td>past tense</td>\n",
       "      <td>NaN</td>\n",
       "      <td>B</td>\n",
       "      <td>Language science</td>\n",
       "      <td>Verbs</td>\n",
       "      <td>Verb tense</td>\n",
       "    </tr>\n",
       "    <tr>\n",
       "      <th>4</th>\n",
       "      <td>Which of the following contains a vague pronou...</td>\n",
       "      <td>Steven's brother Jim wondered whether he ran f...</td>\n",
       "      <td>Steven's brother Jim wondered whether Steven r...</td>\n",
       "      <td>NaN</td>\n",
       "      <td>NaN</td>\n",
       "      <td>A</td>\n",
       "      <td>Language science</td>\n",
       "      <td>Writing-strategies</td>\n",
       "      <td>Pronouns</td>\n",
       "    </tr>\n",
       "  </tbody>\n",
       "</table>\n",
       "</div>"
      ],
      "text/plain": [
       "                                            Question  \\\n",
       "0  Which figure of speech is used in this text?\\n...   \n",
       "1  What does the verbal irony in this text sugges...   \n",
       "2  Is this a sentence fragment?\\nDuring the const...   \n",
       "3  Which tense does the sentence use?\\nMona will ...   \n",
       "4  Which of the following contains a vague pronou...   \n",
       "\n",
       "                                                   A  \\\n",
       "0                                           chiasmus   \n",
       "1                               The snoring is loud.   \n",
       "2                                                 no   \n",
       "3                                      present tense   \n",
       "4  Steven's brother Jim wondered whether he ran f...   \n",
       "\n",
       "                                                   B           C    D  \\\n",
       "0                                         apostrophe         NaN  NaN   \n",
       "1                      The snoring occurs in bursts.         NaN  NaN   \n",
       "2                                                yes         NaN  NaN   \n",
       "3                                       future tense  past tense  NaN   \n",
       "4  Steven's brother Jim wondered whether Steven r...         NaN  NaN   \n",
       "\n",
       "  Correct Option           Subject                Topic  \\\n",
       "0              B  Language science  Figurative-language   \n",
       "1              A  Language science  Figurative-language   \n",
       "2              B  Language science   Writing-strategies   \n",
       "3              B  Language science                Verbs   \n",
       "4              A  Language science   Writing-strategies   \n",
       "\n",
       "                            Category  \n",
       "0                   Literary devices  \n",
       "1                   Literary devices  \n",
       "2  Sentences, fragments, and run-ons  \n",
       "3                         Verb tense  \n",
       "4                           Pronouns  "
      ]
     },
     "execution_count": 40,
     "metadata": {},
     "output_type": "execute_result"
    }
   ],
   "source": [
    "\n",
    "    \n",
    "file_path_SocLang = r'C:\\Users\\Bia\\OneDrive\\Ambiente de Trabalho\\TESE_2024\\DATASETS TESE\\FINAL DATASETS\\Science_qa\\SocLang_df.csv'\n",
    "\n",
    "# Load the CSV file into a DataFrame\n",
    "df_SocLang = pd.read_csv(file_path_SocLang)\n",
    "\n",
    "# Display the first few rows of the DataFrame\n",
    "df_SocLang.head()"
   ]
  },
  {
   "cell_type": "code",
   "execution_count": 41,
   "id": "1967267c",
   "metadata": {},
   "outputs": [
    {
     "data": {
      "text/plain": [
       "Figurative-language    1226\n",
       "Reference-skills        723\n",
       "Writing-strategies      676\n",
       "Economics               384\n",
       "Verbs                   251\n",
       "Punctuation             206\n",
       "Grammar                 137\n",
       "Name: Topic, dtype: int64"
      ]
     },
     "execution_count": 41,
     "metadata": {},
     "output_type": "execute_result"
    }
   ],
   "source": [
    "df_SocLang['Topic'].value_counts()"
   ]
  },
  {
   "cell_type": "code",
   "execution_count": 42,
   "id": "fbd023c2",
   "metadata": {},
   "outputs": [],
   "source": [
    "#do the random selction using the function above defined\n",
    "\n",
    "# Apply the sampling function to each sub-branch\n",
    "df_SocLang_sampled = df_SocLang.groupby('Topic', group_keys=False).apply(sample_rows)\n",
    "\n",
    "# Reset index if desired\n",
    "df_SocLang_sampled.reset_index(drop=True, inplace=True)"
   ]
  },
  {
   "cell_type": "code",
   "execution_count": 43,
   "id": "2d868f72",
   "metadata": {},
   "outputs": [
    {
     "data": {
      "text/html": [
       "<div>\n",
       "<style scoped>\n",
       "    .dataframe tbody tr th:only-of-type {\n",
       "        vertical-align: middle;\n",
       "    }\n",
       "\n",
       "    .dataframe tbody tr th {\n",
       "        vertical-align: top;\n",
       "    }\n",
       "\n",
       "    .dataframe thead th {\n",
       "        text-align: right;\n",
       "    }\n",
       "</style>\n",
       "<table border=\"1\" class=\"dataframe\">\n",
       "  <thead>\n",
       "    <tr style=\"text-align: right;\">\n",
       "      <th></th>\n",
       "      <th>Question</th>\n",
       "      <th>A</th>\n",
       "      <th>B</th>\n",
       "      <th>C</th>\n",
       "      <th>D</th>\n",
       "      <th>Correct Option</th>\n",
       "      <th>Subject</th>\n",
       "      <th>Topic</th>\n",
       "      <th>Category</th>\n",
       "    </tr>\n",
       "  </thead>\n",
       "  <tbody>\n",
       "    <tr>\n",
       "      <th>0</th>\n",
       "      <td>Suppose Maria decides to go as a ghost. Which ...</td>\n",
       "      <td>Maria will get to wear the costume she is more...</td>\n",
       "      <td>Maria will spend some time and money to get th...</td>\n",
       "      <td>NaN</td>\n",
       "      <td>NaN</td>\n",
       "      <td>B</td>\n",
       "      <td>Social science</td>\n",
       "      <td>Economics</td>\n",
       "      <td>Basic economic principles</td>\n",
       "    </tr>\n",
       "    <tr>\n",
       "      <th>1</th>\n",
       "      <td>The city of Norwood has been one of the world'...</td>\n",
       "      <td>The supply will probably go down.</td>\n",
       "      <td>The supply will probably go up.</td>\n",
       "      <td>NaN</td>\n",
       "      <td>NaN</td>\n",
       "      <td>A</td>\n",
       "      <td>Social science</td>\n",
       "      <td>Economics</td>\n",
       "      <td>Supply and demand</td>\n",
       "    </tr>\n",
       "    <tr>\n",
       "      <th>2</th>\n",
       "      <td>Suppose Tammy decides to borrow the book from ...</td>\n",
       "      <td>Tammy will give up the chance to keep the book...</td>\n",
       "      <td>Tammy will save some money by not buying the b...</td>\n",
       "      <td>NaN</td>\n",
       "      <td>NaN</td>\n",
       "      <td>A</td>\n",
       "      <td>Social science</td>\n",
       "      <td>Economics</td>\n",
       "      <td>Basic economic principles</td>\n",
       "    </tr>\n",
       "    <tr>\n",
       "      <th>3</th>\n",
       "      <td>Suppose Sidney decides to eat the string chees...</td>\n",
       "      <td>Sidney will get to eat the string cheese. The ...</td>\n",
       "      <td>Sidney will give up the chance to eat the vani...</td>\n",
       "      <td>NaN</td>\n",
       "      <td>NaN</td>\n",
       "      <td>B</td>\n",
       "      <td>Social science</td>\n",
       "      <td>Economics</td>\n",
       "      <td>Basic economic principles</td>\n",
       "    </tr>\n",
       "    <tr>\n",
       "      <th>4</th>\n",
       "      <td>Suppose Tristan decides to eat the oatmeal coo...</td>\n",
       "      <td>Tristan will give up the chance to eat the rai...</td>\n",
       "      <td>Tristan will get to eat the oatmeal cookies. T...</td>\n",
       "      <td>NaN</td>\n",
       "      <td>NaN</td>\n",
       "      <td>A</td>\n",
       "      <td>Social science</td>\n",
       "      <td>Economics</td>\n",
       "      <td>Basic economic principles</td>\n",
       "    </tr>\n",
       "  </tbody>\n",
       "</table>\n",
       "</div>"
      ],
      "text/plain": [
       "                                            Question  \\\n",
       "0  Suppose Maria decides to go as a ghost. Which ...   \n",
       "1  The city of Norwood has been one of the world'...   \n",
       "2  Suppose Tammy decides to borrow the book from ...   \n",
       "3  Suppose Sidney decides to eat the string chees...   \n",
       "4  Suppose Tristan decides to eat the oatmeal coo...   \n",
       "\n",
       "                                                   A  \\\n",
       "0  Maria will get to wear the costume she is more...   \n",
       "1                  The supply will probably go down.   \n",
       "2  Tammy will give up the chance to keep the book...   \n",
       "3  Sidney will get to eat the string cheese. The ...   \n",
       "4  Tristan will give up the chance to eat the rai...   \n",
       "\n",
       "                                                   B    C    D Correct Option  \\\n",
       "0  Maria will spend some time and money to get th...  NaN  NaN              B   \n",
       "1                    The supply will probably go up.  NaN  NaN              A   \n",
       "2  Tammy will save some money by not buying the b...  NaN  NaN              A   \n",
       "3  Sidney will give up the chance to eat the vani...  NaN  NaN              B   \n",
       "4  Tristan will get to eat the oatmeal cookies. T...  NaN  NaN              A   \n",
       "\n",
       "          Subject      Topic                   Category  \n",
       "0  Social science  Economics  Basic economic principles  \n",
       "1  Social science  Economics          Supply and demand  \n",
       "2  Social science  Economics  Basic economic principles  \n",
       "3  Social science  Economics  Basic economic principles  \n",
       "4  Social science  Economics  Basic economic principles  "
      ]
     },
     "execution_count": 43,
     "metadata": {},
     "output_type": "execute_result"
    }
   ],
   "source": [
    "df_SocLang_sampled.head()"
   ]
  },
  {
   "cell_type": "code",
   "execution_count": 44,
   "id": "309d8ed4",
   "metadata": {},
   "outputs": [
    {
     "data": {
      "text/plain": [
       "Economics              90\n",
       "Figurative-language    90\n",
       "Grammar                90\n",
       "Punctuation            90\n",
       "Reference-skills       90\n",
       "Verbs                  90\n",
       "Writing-strategies     90\n",
       "Name: Topic, dtype: int64"
      ]
     },
     "execution_count": 44,
     "metadata": {},
     "output_type": "execute_result"
    }
   ],
   "source": [
    "df_SocLang_sampled['Topic'].value_counts()"
   ]
  },
  {
   "cell_type": "code",
   "execution_count": 52,
   "id": "9af1eb67",
   "metadata": {},
   "outputs": [],
   "source": [
    "#export as csv\n",
    "#df_SocLang_sampled.to_csv('df_SocLang_sampled.csv',index=False)"
   ]
  },
  {
   "cell_type": "code",
   "execution_count": 46,
   "id": "28c8a5a8",
   "metadata": {},
   "outputs": [
    {
     "data": {
      "text/plain": [
       "((630, 9), 2, 7)"
      ]
     },
     "execution_count": 46,
     "metadata": {},
     "output_type": "execute_result"
    }
   ],
   "source": [
    "df_SocLang_sampled.shape, df_SocLang_sampled['Subject'].nunique(), df_SocLang_sampled['Topic'].nunique()"
   ]
  },
  {
   "cell_type": "code",
   "execution_count": null,
   "id": "6622fb2f",
   "metadata": {},
   "outputs": [],
   "source": []
  }
 ],
 "metadata": {
  "kernelspec": {
   "display_name": "Python 3 (ipykernel)",
   "language": "python",
   "name": "python3"
  },
  "language_info": {
   "codemirror_mode": {
    "name": "ipython",
    "version": 3
   },
   "file_extension": ".py",
   "mimetype": "text/x-python",
   "name": "python",
   "nbconvert_exporter": "python",
   "pygments_lexer": "ipython3",
   "version": "3.9.12"
  }
 },
 "nbformat": 4,
 "nbformat_minor": 5
}
